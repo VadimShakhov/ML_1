{
 "cells": [
  {
   "cell_type": "markdown",
   "metadata": {
    "id": "Mmur_PrzwOJk"
   },
   "source": [
    "## Общая информация\n",
    "\n",
    "**Срок сдачи:** 5 апреля 2022, 08:30 \n",
    "\n",
    "**Штраф за опоздание:** по 1 баллу за 24 часа задержки. Через 5 дней домашнее задание сгорает.\n",
    "\n",
    "При отправлении ДЗ указывайте фамилию в названии файла\n",
    "Присылать ДЗ необходимо в виде ссылки на свой github репозиторий на почту ml1.sphere@mail.ru с указанием темы в следующем формате:\n",
    "\n",
    "[ML0220, Задание 1] Фамилия Имя.\n",
    "\n",
    "Используйте данный Ipython Notebook при оформлении домашнего задания."
   ]
  },
  {
   "cell_type": "markdown",
   "metadata": {
    "id": "eoIheAnvwOJx"
   },
   "source": [
    "\n",
    "**Штрафные баллы:**\n",
    "\n",
    "1. Отсутствие фамилии в имени скрипта (скрипт должен называться по аналогии со stroykova_hw1.ipynb) -0.5 баллов\n",
    "2. Все строчки должны быть выполнены. Нужно, чтобы output команды можно было увидеть уже в git'е. В противном случае -0.5 баллов\n"
   ]
  },
  {
   "cell_type": "code",
   "execution_count": 1,
   "metadata": {
    "id": "_g9b8GuswOJz"
   },
   "outputs": [],
   "source": [
    "from scipy import stats\n",
    "\n",
    "import numpy as np\n",
    "import matplotlib.pyplot as plt\n",
    "\n",
    "from sklearn import datasets\n",
    "from sklearn.base import BaseEstimator\n",
    "from sklearn.datasets import fetch_20newsgroups\n",
    "\n",
    "from sklearn.model_selection import train_test_split\n",
    "from sklearn.neighbors import KNeighborsClassifier\n",
    "from sklearn.metrics import accuracy_score\n",
    "\n",
    "from sklearn.feature_extraction.text import CountVectorizer, TfidfVectorizer\n",
    "from sklearn.neighbors import KDTree"
   ]
  },
  {
   "cell_type": "markdown",
   "metadata": {
    "id": "S7mxZmm5wOJ2"
   },
   "source": [
    "### Задание 1 (1 балл)\n",
    "Реализовать KNN в классе MyKNeighborsClassifier (обязательное условие: точность не ниже sklearn реализации)\n",
    "Разберитесь самостоятельно, какая мера расстояния используется в KNeighborsClassifier дефолтно и реализуйте свой алгоритм именно с этой мерой. \n",
    "Для подсчета расстояний можно использовать функции [отсюда](https://docs.scipy.org/doc/scipy/reference/spatial.distance.html)"
   ]
  },
  {
   "cell_type": "code",
   "execution_count": 2,
   "metadata": {
    "id": "90f93nI_wOJ3"
   },
   "outputs": [],
   "source": [
    "class MyKNeighborsClassifier(BaseEstimator):\n",
    "    \n",
    "    def euclidean(self, X_train, X_test):\n",
    "        X_train = X_train[:,:, np.newaxis]\n",
    "        dist = (X_train - X_test.T) ** 2\n",
    "        dist = np.sqrt(np.sum(dist, axis=1))\n",
    "        return dist\n",
    "    \n",
    "    def brute(self, X):\n",
    "        distances = self.euclidean(self.X_train, X)\n",
    "        distances = distances.argpartition(self.K, axis=0)[:self.K, :]\n",
    "        values = np.take(self.y_train, distances.T)\n",
    "        return stats.mode(values, axis=1)[0].reshape(-1)\n",
    "            \n",
    "    def kd_tree(self, X):\n",
    "        nearest_x_ind = self.tree.query(X, k=self.K, return_distance=False)\n",
    "        values = np.take(self.y_train, nearest_x_ind)\n",
    "        return stats.mode(values, axis=1)[0].reshape(-1)\n",
    "    \n",
    "    def __init__(\n",
    "        self, \n",
    "        n_neighbors, \n",
    "        algorithm='brute', \n",
    "        leaf_size = 40,  \n",
    "    ):\n",
    "        self.K = n_neighbors\n",
    "        self.algorithm_name = algorithm\n",
    "        \n",
    "        if algorithm == 'brute':\n",
    "            self.algorithm = self.brute\n",
    "                \n",
    "        elif algorithm == 'kd_tree':\n",
    "            self.algorithm = self.kd_tree\n",
    "            self.leaf_size = leaf_size\n",
    "                \n",
    "        else:\n",
    "            assert 0, 'Wrong algorithm\\'s name'\n",
    "    \n",
    "    def fit(self, X, y):\n",
    "        self.X_train = np.array(X)\n",
    "        self.y_train = np.array(y)\n",
    "        if self.algorithm_name == 'kd_tree':\n",
    "            self.tree = KDTree(X, leaf_size=self.leaf_size)\n",
    "    \n",
    "    def predict(self, X):\n",
    "        return self.algorithm(X)\n",
    "    "
   ]
  },
  {
   "cell_type": "markdown",
   "metadata": {
    "id": "liM1_EhJwOJ5"
   },
   "source": [
    "**IRIS**\n",
    "\n",
    "В библиотеке scikit-learn есть несколько датасетов из коробки. Один из них [Ирисы Фишера](https://ru.wikipedia.org/wiki/%D0%98%D1%80%D0%B8%D1%81%D1%8B_%D0%A4%D0%B8%D1%88%D0%B5%D1%80%D0%B0)"
   ]
  },
  {
   "cell_type": "code",
   "execution_count": 3,
   "metadata": {
    "id": "G8GQ2bC1wOJ6"
   },
   "outputs": [],
   "source": [
    "iris = datasets.load_iris()"
   ]
  },
  {
   "cell_type": "code",
   "execution_count": 4,
   "metadata": {
    "id": "pMebtVvnwOJ8",
    "tags": []
   },
   "outputs": [],
   "source": [
    "X_train, X_test, y_train, y_test = train_test_split(iris.data, iris.target, test_size=0.1, stratify=iris.target)"
   ]
  },
  {
   "cell_type": "code",
   "execution_count": 5,
   "metadata": {
    "id": "CUAbvgCWwOJ9"
   },
   "outputs": [],
   "source": [
    "clf = KNeighborsClassifier(n_neighbors=2, algorithm='brute')\n",
    "my_clf = MyKNeighborsClassifier(n_neighbors=2, algorithm='brute')"
   ]
  },
  {
   "cell_type": "code",
   "execution_count": 6,
   "metadata": {
    "id": "ltv0juNJwOJ_"
   },
   "outputs": [],
   "source": [
    "clf.fit(X_train, y_train)\n",
    "my_clf.fit(X_train, y_train)"
   ]
  },
  {
   "cell_type": "code",
   "execution_count": 7,
   "metadata": {
    "id": "cebLVihLwOKA"
   },
   "outputs": [],
   "source": [
    "sklearn_pred = clf.predict(X_test)\n",
    "my_clf_pred = my_clf.predict(X_test)\n",
    "assert abs( accuracy_score(y_test, my_clf_pred) -  accuracy_score(y_test, sklearn_pred ) )<0.005, \"Score must be simillar\""
   ]
  },
  {
   "cell_type": "markdown",
   "metadata": {
    "id": "IKlk_3SJwOKA"
   },
   "source": [
    "### Задание 2 (0.5 балла)\n",
    "\n",
    "Давайте попробуем добиться скорости работы на fit, predict сравнимой со sklearn для iris. Допускается замедление не более чем в 2 раза. \n",
    "Для этого используем numpy. "
   ]
  },
  {
   "cell_type": "code",
   "execution_count": 8,
   "metadata": {
    "id": "NmSI69TDwOKB",
    "outputId": "4299a7a1-8852-4a4c-a337-d8143e91ae06"
   },
   "outputs": [
    {
     "name": "stdout",
     "output_type": "stream",
     "text": [
      "CPU times: user 996 µs, sys: 102 µs, total: 1.1 ms\n",
      "Wall time: 1.11 ms\n"
     ]
    },
    {
     "data": {
      "text/plain": [
       "KNeighborsClassifier(algorithm='brute', n_neighbors=2)"
      ]
     },
     "execution_count": 8,
     "metadata": {},
     "output_type": "execute_result"
    }
   ],
   "source": [
    "%time clf.fit(X_train, y_train)"
   ]
  },
  {
   "cell_type": "code",
   "execution_count": 9,
   "metadata": {
    "id": "Hd35Kv9SwOKD",
    "outputId": "2b3074a4-f25f-4f6f-a7e3-ca8cf6d1f501"
   },
   "outputs": [
    {
     "name": "stdout",
     "output_type": "stream",
     "text": [
      "CPU times: user 476 µs, sys: 0 ns, total: 476 µs\n",
      "Wall time: 523 µs\n"
     ]
    }
   ],
   "source": [
    "%time my_clf.fit(X_train, y_train)"
   ]
  },
  {
   "cell_type": "code",
   "execution_count": 10,
   "metadata": {
    "id": "Jw7098enwOKE",
    "outputId": "57b10807-e49f-48e8-c20c-e4ea4eb953bb"
   },
   "outputs": [
    {
     "name": "stdout",
     "output_type": "stream",
     "text": [
      "CPU times: user 3.17 ms, sys: 0 ns, total: 3.17 ms\n",
      "Wall time: 4.52 ms\n"
     ]
    },
    {
     "data": {
      "text/plain": [
       "array([2, 2, 0, 1, 1, 2, 2, 1, 0, 0, 1, 1, 0, 0, 1])"
      ]
     },
     "execution_count": 10,
     "metadata": {},
     "output_type": "execute_result"
    }
   ],
   "source": [
    "%time clf.predict(X_test)"
   ]
  },
  {
   "cell_type": "code",
   "execution_count": 11,
   "metadata": {
    "id": "63jt00PbwOKF",
    "outputId": "400c5c70-d239-478d-ff5f-73d41a913053"
   },
   "outputs": [
    {
     "name": "stdout",
     "output_type": "stream",
     "text": [
      "CPU times: user 2.42 ms, sys: 0 ns, total: 2.42 ms\n",
      "Wall time: 2.48 ms\n"
     ]
    },
    {
     "data": {
      "text/plain": [
       "array([2, 2, 0, 1, 1, 2, 2, 1, 0, 0, 1, 1, 0, 0, 1])"
      ]
     },
     "execution_count": 11,
     "metadata": {},
     "output_type": "execute_result"
    }
   ],
   "source": [
    "%time my_clf.predict(X_test)"
   ]
  },
  {
   "cell_type": "markdown",
   "metadata": {
    "id": "uCKhKrKIwOKG"
   },
   "source": [
    "### Задание 3 (1 балл)\n",
    "Добавьте algorithm='kd_tree' в реализацию KNN (использовать KDTree из sklearn.neighbors). Необходимо добиться скорости работы на fit,  predict сравнимой со sklearn для iris. Допускается замедление не более чем в 2 раза. \n",
    "Для этого используем numpy. Точность не должна уступать значению KNN из sklearn. "
   ]
  },
  {
   "cell_type": "code",
   "execution_count": 12,
   "metadata": {
    "id": "z4xBUX-uwOKH"
   },
   "outputs": [],
   "source": [
    "clf = KNeighborsClassifier(n_neighbors=2, algorithm='kd_tree')\n",
    "my_clf = MyKNeighborsClassifier(n_neighbors=2, algorithm='kd_tree')"
   ]
  },
  {
   "cell_type": "code",
   "execution_count": 13,
   "metadata": {
    "id": "369LIw9LwOKH"
   },
   "outputs": [],
   "source": [
    "X_train, X_test, y_train, y_test = train_test_split(iris.data, iris.target, test_size=0.1, stratify=iris.target)"
   ]
  },
  {
   "cell_type": "code",
   "execution_count": 14,
   "metadata": {
    "id": "NoVAFQWtwOKI",
    "outputId": "ba422587-0b5a-4915-b0c7-b1c1e4aff599"
   },
   "outputs": [
    {
     "name": "stdout",
     "output_type": "stream",
     "text": [
      "CPU times: user 1.46 ms, sys: 149 µs, total: 1.61 ms\n",
      "Wall time: 3.43 ms\n"
     ]
    },
    {
     "data": {
      "text/plain": [
       "KNeighborsClassifier(algorithm='kd_tree', n_neighbors=2)"
      ]
     },
     "execution_count": 14,
     "metadata": {},
     "output_type": "execute_result"
    }
   ],
   "source": [
    "%time clf.fit(X_train, y_train)"
   ]
  },
  {
   "cell_type": "code",
   "execution_count": 15,
   "metadata": {
    "id": "Xi4RaOX3wOKJ",
    "outputId": "ab0c9398-bd72-4857-ca8f-ee692624ef50"
   },
   "outputs": [
    {
     "name": "stdout",
     "output_type": "stream",
     "text": [
      "CPU times: user 970 µs, sys: 32 µs, total: 1 ms\n",
      "Wall time: 5.25 ms\n"
     ]
    }
   ],
   "source": [
    "%time my_clf.fit(X_train, y_train)"
   ]
  },
  {
   "cell_type": "code",
   "execution_count": 16,
   "metadata": {
    "id": "niXRAkY8wOKJ",
    "outputId": "b0b14e9c-96ef-4e44-930d-65746dfc7762"
   },
   "outputs": [
    {
     "name": "stdout",
     "output_type": "stream",
     "text": [
      "CPU times: user 3.12 ms, sys: 0 ns, total: 3.12 ms\n",
      "Wall time: 6.05 ms\n"
     ]
    },
    {
     "data": {
      "text/plain": [
       "array([0, 2, 0, 0, 1, 2, 2, 1, 2, 1, 1, 0, 1, 0, 2])"
      ]
     },
     "execution_count": 16,
     "metadata": {},
     "output_type": "execute_result"
    }
   ],
   "source": [
    "%time clf.predict(X_test)"
   ]
  },
  {
   "cell_type": "code",
   "execution_count": 17,
   "metadata": {
    "id": "YkAlln_MwOKK",
    "outputId": "c369bd37-45a8-4f6d-b325-b290eaf5c295"
   },
   "outputs": [
    {
     "name": "stdout",
     "output_type": "stream",
     "text": [
      "CPU times: user 2.12 ms, sys: 0 ns, total: 2.12 ms\n",
      "Wall time: 4.81 ms\n"
     ]
    },
    {
     "data": {
      "text/plain": [
       "array([0, 2, 0, 0, 1, 2, 2, 1, 2, 1, 1, 0, 1, 0, 2])"
      ]
     },
     "execution_count": 17,
     "metadata": {},
     "output_type": "execute_result"
    }
   ],
   "source": [
    "%time my_clf.predict(X_test)"
   ]
  },
  {
   "cell_type": "code",
   "execution_count": 18,
   "metadata": {
    "id": "o6I6LvcUwOKL"
   },
   "outputs": [],
   "source": [
    "sklearn_pred = clf.predict(X_test)\n",
    "my_clf_pred = my_clf.predict(X_test)\n",
    "assert abs( accuracy_score(y_test, my_clf_pred) -  accuracy_score(y_test, sklearn_pred ) )<0.005, \"Score must be simillar\""
   ]
  },
  {
   "cell_type": "markdown",
   "metadata": {
    "id": "UCgCj92HwOKM"
   },
   "source": [
    "### Задание 4 (2.5 балла)\n",
    "\n",
    "Рассмотрим новый датасет 20 newsgroups"
   ]
  },
  {
   "cell_type": "code",
   "execution_count": 361,
   "metadata": {
    "id": "WXhQ2ZLIwOKM"
   },
   "outputs": [],
   "source": [
    "newsgroups = fetch_20newsgroups(subset='train',remove=['headers','footers', 'quotes'])"
   ]
  },
  {
   "cell_type": "code",
   "execution_count": 362,
   "metadata": {
    "id": "OaZri05LwOKN"
   },
   "outputs": [],
   "source": [
    "train_size = len(newsgroups['data'])\n",
    "data = newsgroups['data']\n",
    "target = newsgroups['target']"
   ]
  },
  {
   "cell_type": "markdown",
   "metadata": {
    "id": "5tqe_GI5wOKN"
   },
   "source": [
    "Преобразуйте текстовые данные из data с помощью [CountVectorizer](https://scikit-learn.org/stable/modules/generated/sklearn.feature_extraction.text.CountVectorizer.html). Словарь можно ограничить по частотности."
   ]
  },
  {
   "cell_type": "code",
   "execution_count": 363,
   "metadata": {
    "id": "4IrgAAffwOKN"
   },
   "outputs": [],
   "source": [
    "max_features = 100\n",
    "vectorizer = CountVectorizer(max_features=max_features, stop_words='english', max_df=0.06)\n",
    "X_train = vectorizer.fit_transform(data).toarray()\n",
    "y_train = np.asarray(target)"
   ]
  },
  {
   "cell_type": "markdown",
   "metadata": {
    "id": "iVDZzFs-wOKO"
   },
   "source": [
    "*Так мы получили векторное представление наших текстов. Значит можно приступать к задаче обучения модели*"
   ]
  },
  {
   "cell_type": "markdown",
   "metadata": {
    "id": "1zIvE5-9wOKP"
   },
   "source": [
    "Реализуйте разбиение выборки для кросс-валидации на 3 фолдах. Разрешено использовать sklearn.cross_validation"
   ]
  },
  {
   "cell_type": "code",
   "execution_count": 364,
   "metadata": {
    "id": "roA4WbgiwOKP"
   },
   "outputs": [],
   "source": [
    "folds = 3\n",
    "\n",
    "#тестовые фолды\n",
    "split_X = np.array_split(X_train, folds)\n",
    "split_y = np.array_split(y_train, folds)\n",
    "\n",
    "#трэйновые фолды\n",
    "Xtrain = [np.concatenate([split_X[j] for j in range(folds) if j != i]) for i in range(folds)]\n",
    "ytrain = [np.concatenate([split_y[j] for j in range(folds) if j != i]) for i in range(folds)]"
   ]
  },
  {
   "cell_type": "markdown",
   "metadata": {
    "id": "CieGwSjDwOKP"
   },
   "source": [
    "Напишите метод, позволяющий найти оптимальное количество ближайших соседей(дающее максимальную точность в среднем на валидации на 3 фолдах).\n",
    "Постройте график зависимости средней точности от количества соседей. Можно рассмотреть число соседей от 1 до 10.\n",
    "(было рассмотрено от 1 до 100, т. к. при числе соседей до 10 точность сильно меньше, чем при больших значениях.)"
   ]
  },
  {
   "cell_type": "code",
   "execution_count": 365,
   "metadata": {
    "id": "GzjFPrfOwOKQ"
   },
   "outputs": [],
   "source": [
    "K_min = 1 #Минимальное число соседей, которое будет проверяться\n",
    "K = 100 #Сколько вариантов будет проверяться\n",
    "K_step = 1 #Шаг, с которым будет проверяться число соседей\n",
    "k_range = range(K_min, K_min+K*K_step, K_step) #Числа соседей, которые будут проверяться\n",
    "def optimal(split_X, split_y, folds):\n",
    "    scores = np.zeros(K)\n",
    "    for k in k_range:\n",
    "        print(k, end=' ') #печатает, на каком этапе выполнение функции\n",
    "        my_clf = MyKNeighborsClassifier(n_neighbors=k, algorithm='kd_tree')\n",
    "        score = 0\n",
    "        for i in range(folds):\n",
    "            my_clf.fit(Xtrain[i], ytrain[i])\n",
    "            my_clf_pred = my_clf.predict(split_X[i])\n",
    "            score += accuracy_score(split_y[i], my_clf_pred)\n",
    "        scores[(k-K_min) // K_step] = score / folds\n",
    "    print(\"\")\n",
    "    return scores\n",
    "         "
   ]
  },
  {
   "cell_type": "markdown",
   "metadata": {
    "id": "3_wivklMwOKR"
   },
   "source": [
    "Метрика евклидова, векторизация с помощью CountVectorizer:"
   ]
  },
  {
   "cell_type": "code",
   "execution_count": 366,
   "metadata": {
    "id": "nMNu5PzkwOKR",
    "outputId": "612d0498-7ffc-491e-a0b0-645a6b7b45cb"
   },
   "outputs": [
    {
     "name": "stdout",
     "output_type": "stream",
     "text": [
      "1 2 3 4 5 6 7 8 9 10 11 12 13 14 15 16 17 18 19 20 21 22 23 24 25 26 27 28 29 30 31 32 33 34 35 36 37 38 39 40 41 42 43 44 45 46 47 48 49 50 51 52 53 54 55 56 57 58 59 60 61 62 63 64 65 66 67 68 69 70 71 72 73 74 75 76 77 78 79 80 81 82 83 84 85 86 87 88 89 90 91 92 93 94 95 96 97 98 99 100 \n"
     ]
    }
   ],
   "source": [
    "accuracy = optimal(split_X, split_y, folds)"
   ]
  },
  {
   "cell_type": "code",
   "execution_count": 369,
   "metadata": {},
   "outputs": [
    {
     "name": "stdout",
     "output_type": "stream",
     "text": [
      "Лучшая точность:  0.24845376320319187 \n",
      "Число соседей:  46\n"
     ]
    },
    {
     "data": {
      "image/png": "[encoded data removed]",
      "text/plain": [
       "<Figure size 432x288 with 1 Axes>"
      ]
     },
     "metadata": {
      "needs_background": "light"
     },
     "output_type": "display_data"
    }
   ],
   "source": [
    "plt.plot(k_range, accuracy)\n",
    "print(\"Лучшая точность: \", accuracy.max(), \"\\nЧисло соседей: \", accuracy.argmax()*K_step+K_min)"
   ]
  },
  {
   "cell_type": "markdown",
   "metadata": {
    "id": "rU0qhMwwwOKW"
   },
   "source": [
    "Как изменится качество на валидации, если:\n",
    "\n",
    "1. Используется косинусная метрика вместо евклидовой.\n",
    "2. К текстам применяется TfIdf векторизацию( sklearn.feature_extraction.text.TfidfVectorizer)\n",
    "\n",
    "Сравните модели, выберите лучшую."
   ]
  },
  {
   "cell_type": "code",
   "execution_count": 372,
   "metadata": {},
   "outputs": [],
   "source": [
    "#Далее все рассчёты быдут проводиться только для 46 соседей\n",
    "K_min = 46\n",
    "K = 1\n",
    "K_step = 1\n",
    "k_range = range(K_min, K_min+K*K_step, K_step)"
   ]
  },
  {
   "cell_type": "markdown",
   "metadata": {
    "id": "gny9JI3hwOKS"
   },
   "source": [
    "Метрика косинусная, векторизация с помощью CountVectorizer:"
   ]
  },
  {
   "cell_type": "code",
   "execution_count": 373,
   "metadata": {
    "id": "BLBIEMOKwOKT",
    "outputId": "cb9d2fb3-532e-4243-ef00-312dac7af945"
   },
   "outputs": [
    {
     "name": "stdout",
     "output_type": "stream",
     "text": [
      "46 \n"
     ]
    }
   ],
   "source": [
    "X_train = X_train / (np.sqrt((X_train ** 2).sum(axis=1))[:, np.newaxis] + 0.00001) #нормировка векторов\n",
    "\n",
    "split_X = np.array_split(X_train, folds)\n",
    "Xtrain = [np.concatenate([split_X[j] for j in range(folds) if j != i]) for i in range(folds)]\n",
    "\n",
    "accuracy_cos = optimal(split_X, split_y, folds)"
   ]
  },
  {
   "cell_type": "code",
   "execution_count": 375,
   "metadata": {
    "id": "BLBIEMOKwOKT",
    "outputId": "cb9d2fb3-532e-4243-ef00-312dac7af945"
   },
   "outputs": [
    {
     "name": "stdout",
     "output_type": "stream",
     "text": [
      "Точность:  0.2602084389630863 Число соседей:  46\n"
     ]
    }
   ],
   "source": [
    "#plt.plot(k_range, accuracy_cos)\n",
    "print(\"Точность: \", accuracy_cos.max(), \"Число соседей: \", accuracy_cos.argmax()*K_step+K_min)"
   ]
  },
  {
   "cell_type": "markdown",
   "metadata": {
    "id": "TYqHAgDuwOKT"
   },
   "source": [
    "Метрика евклидова, векторизация с помощью TfidfVectorizer:"
   ]
  },
  {
   "cell_type": "code",
   "execution_count": 376,
   "metadata": {
    "id": "ffB-s_nowOKU",
    "outputId": "b51f4ee4-7ec8-425d-d5b8-13f74ff4ffd2"
   },
   "outputs": [],
   "source": [
    "tfidf_vectorizer = TfidfVectorizer(max_features=max_features, stop_words='english', max_df=0.06)"
   ]
  },
  {
   "cell_type": "code",
   "execution_count": 378,
   "metadata": {
    "id": "ffB-s_nowOKU",
    "outputId": "b51f4ee4-7ec8-425d-d5b8-13f74ff4ffd2"
   },
   "outputs": [
    {
     "name": "stdout",
     "output_type": "stream",
     "text": [
      "46 \n"
     ]
    }
   ],
   "source": [
    "X_train = tfidf_vectorizer.fit_transform(data).toarray()\n",
    "split_X = np.array_split(X_train, folds)\n",
    "\n",
    "accuracy_tfidf = optimal(split_X, split_y, folds)"
   ]
  },
  {
   "cell_type": "code",
   "execution_count": 379,
   "metadata": {
    "id": "ffB-s_nowOKU",
    "outputId": "b51f4ee4-7ec8-425d-d5b8-13f74ff4ffd2"
   },
   "outputs": [
    {
     "name": "stdout",
     "output_type": "stream",
     "text": [
      "Точность:  0.2648930101248022 Число соседей:  46\n"
     ]
    }
   ],
   "source": [
    "#plt.plot(k_range, accuracy_tfidf)\n",
    "print(\"Точность: \", accuracy_tfidf.max(), \"Число соседей: \", accuracy_tfidf.argmax()*K_step+K_min)"
   ]
  },
  {
   "cell_type": "markdown",
   "metadata": {
    "id": "5ee7ef2fwOKV"
   },
   "source": [
    "Метрика косинусная, векторизация с помощью TfidfVectorizer:"
   ]
  },
  {
   "cell_type": "code",
   "execution_count": 380,
   "metadata": {
    "id": "hs74WiQ3wOKV",
    "outputId": "3d0c1540-0abc-4724-ba08-307646383426"
   },
   "outputs": [
    {
     "name": "stdout",
     "output_type": "stream",
     "text": [
      "46 \n"
     ]
    }
   ],
   "source": [
    "X_train = X_train / (np.sqrt((X_train ** 2).sum(axis=1))[:, np.newaxis] + 0.00001) #нормировка векторов\n",
    "\n",
    "split_X = np.array_split(X_train, folds)\n",
    "Xtrain = [np.concatenate([split_X[j] for j in range(folds) if j != i]) for i in range(folds)]\n",
    "\n",
    "accuracy_tfidf_cos = optimal(split_X, split_y, folds)"
   ]
  },
  {
   "cell_type": "code",
   "execution_count": 381,
   "metadata": {
    "id": "hs74WiQ3wOKV",
    "outputId": "3d0c1540-0abc-4724-ba08-307646383426",
    "scrolled": true
   },
   "outputs": [
    {
     "name": "stdout",
     "output_type": "stream",
     "text": [
      "Точность:  0.26445101727486436 Число соседей:  46\n"
     ]
    }
   ],
   "source": [
    "#plt.plot(k_range, accuracy_tfidf_cos)\n",
    "print(\"Точность: \", accuracy_tfidf_cos.max(), \"Число соседей: \", accuracy_tfidf_cos.argmax()*K_step+K_min)"
   ]
  },
  {
   "cell_type": "markdown",
   "metadata": {
    "id": "0NStfUuswOKW"
   },
   "source": [
    "Итог: Лучше всего работает TfIdf векторизация, метрика особо ни на что не влияет, формально точнее была евклидова метрика. Число соседей 46."
   ]
  },
  {
   "cell_type": "markdown",
   "metadata": {
    "id": "0EDbZ8G6wOKq"
   },
   "source": [
    "Загрузим  теперь test  часть нашей выборки и преобразуем её аналогично с train частью. Не забудьте, что наборы слов в train и test части могут отличаться."
   ]
  },
  {
   "cell_type": "code",
   "execution_count": 388,
   "metadata": {
    "id": "zL0SeoOMwOKr"
   },
   "outputs": [],
   "source": [
    "newsgroups = fetch_20newsgroups(subset='test',remove=['headers','footers', 'quotes'])"
   ]
  },
  {
   "cell_type": "markdown",
   "metadata": {
    "id": "DPvSfn3JwOKr"
   },
   "source": [
    "Оценим точность вашей лучшей модели на test части датасета. Отличается ли оно от кросс-валидации? Попробуйте сделать выводы, почему отличается качество."
   ]
  },
  {
   "cell_type": "code",
   "execution_count": 389,
   "metadata": {
    "id": "khgxCM9HwOKs",
    "outputId": "83d473c0-b6e9-45dc-e404-5a3fbd054133"
   },
   "outputs": [
    {
     "name": "stdout",
     "output_type": "stream",
     "text": [
      "Точность на тестовой выборке:  0.24362719065321295\n"
     ]
    }
   ],
   "source": [
    "test_size = len(newsgroups['data'])\n",
    "data_test = newsgroups['data']\n",
    "target_test = newsgroups['target']\n",
    "\n",
    "#объединение словарей\n",
    "data_all = data + data_test\n",
    "target_all = np.concatenate((target, target_test))\n",
    "\n",
    "X = tfidf_vectorizer.fit_transform(data_all).toarray()\n",
    "X_test = X[train_size:train_size+test_size, :]\n",
    "#X_test = X_test / (np.sqrt((X_test ** 2).sum(axis=1))[:, np.newaxis] + 0.00001)\n",
    "y_test = np.asarray(target_test)\n",
    "X_train = X[:train_size, :]\n",
    "y_train = target[:train_size]\n",
    "#X_train = X_train / (np.sqrt((X_train ** 2).sum(axis=1))[:, np.newaxis] + 0.00001)\n",
    "\n",
    "my_clf = MyKNeighborsClassifier(n_neighbors=46, algorithm='kd_tree')\n",
    "my_clf.fit(X_train, y_train)\n",
    "my_clf_pred = my_clf.predict(X_test)\n",
    "print(\"Точность на тестовой выборке: \", accuracy_score(y_test, my_clf_pred))"
   ]
  },
  {
   "cell_type": "markdown",
   "metadata": {
    "id": "DNjPKsWuwOKt"
   },
   "source": [
    "Точность чуть меньше (была 0.265). Но, во-первых, на разных выборка всегда будут разные результаты, во-вторых, при добавлении тестовой выборки был изменён словарь, а при достаточно скудной возможности выбора максимального числа слов, это тоже влияет на погрешность измерений."
   ]
  },
  {
   "cell_type": "code",
   "execution_count": 400,
   "metadata": {},
   "outputs": [],
   "source": [
    "scores = np.zeros(folds)\n",
    "\n",
    "split_X = np.array_split(X_train, folds)\n",
    "split_y = np.array_split(y_train, folds)\n",
    "\n",
    "#трэйновые фолды\n",
    "Xtrain = [np.concatenate([split_X[j] for j in range(folds) if j != i]) for i in range(folds)]\n",
    "ytrain = [np.concatenate([split_y[j] for j in range(folds) if j != i]) for i in range(folds)]\n",
    "for i in range(folds):\n",
    "    my_clf.fit(Xtrain[i], ytrain[i])\n",
    "    my_clf_pred = my_clf.predict(split_X[i])\n",
    "    scores[i] = accuracy_score(split_y[i], my_clf_pred)"
   ]
  },
  {
   "cell_type": "code",
   "execution_count": 412,
   "metadata": {},
   "outputs": [
    {
     "name": "stdout",
     "output_type": "stream",
     "text": [
      "Точности на 1-ом, 2-ом и 3-м фолдах: [0.25795334 0.24635375 0.2543092 ]\n"
     ]
    }
   ],
   "source": [
    "print(f\"Точности на 1-ом, 2-ом и 3-м фолдах: {scores}\")"
   ]
  }
 ],
 "metadata": {
  "colab": {
   "name": "shakhov_hw1.ipynb",
   "provenance": []
  },
  "kernelspec": {
   "display_name": "Python 3",
   "language": "python",
   "name": "python3"
  },
  "language_info": {
   "codemirror_mode": {
    "name": "ipython",
    "version": 3
   },
   "file_extension": ".py",
   "mimetype": "text/x-python",
   "name": "python",
   "nbconvert_exporter": "python",
   "pygments_lexer": "ipython3",
   "version": "3.7.11"
  }
 },
 "nbformat": 4,
 "nbformat_minor": 1
}
