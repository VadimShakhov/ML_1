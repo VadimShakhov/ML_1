{
 "cells": [
  {
   "cell_type": "markdown",
   "metadata": {
    "id": "Mmur_PrzwOJk"
   },
   "source": [
    "## Общая информация\n",
    "\n",
    "**Срок сдачи:** 5 апреля 2022, 08:30 \n",
    "\n",
    "**Штраф за опоздание:** по 1 баллу за 24 часа задержки. Через 5 дней домашнее задание сгорает.\n",
    "\n",
    "При отправлении ДЗ указывайте фамилию в названии файла\n",
    "Присылать ДЗ необходимо в виде ссылки на свой github репозиторий на почту ml1.sphere@mail.ru с указанием темы в следующем формате:\n",
    "\n",
    "[ML0220, Задание 1] Фамилия Имя.\n",
    "\n",
    "Используйте данный Ipython Notebook при оформлении домашнего задания."
   ]
  },
  {
   "cell_type": "markdown",
   "metadata": {
    "id": "eoIheAnvwOJx"
   },
   "source": [
    "\n",
    "**Штрафные баллы:**\n",
    "\n",
    "1. Отсутствие фамилии в имени скрипта (скрипт должен называться по аналогии со stroykova_hw1.ipynb) -0.5 баллов\n",
    "2. Все строчки должны быть выполнены. Нужно, чтобы output команды можно было увидеть уже в git'е. В противном случае -0.5 баллов\n"
   ]
  },
  {
   "cell_type": "code",
   "execution_count": 1,
   "metadata": {
    "id": "_g9b8GuswOJz"
   },
   "outputs": [],
   "source": [
    "from scipy import stats\n",
    "\n",
    "import numpy as np\n",
    "import matplotlib.pyplot as plt\n",
    "\n",
    "from sklearn import datasets\n",
    "from sklearn.base import BaseEstimator\n",
    "from sklearn.datasets import fetch_20newsgroups\n",
    "\n",
    "from sklearn.model_selection import train_test_split\n",
    "from sklearn.neighbors import KNeighborsClassifier\n",
    "from sklearn.metrics import accuracy_score\n",
    "\n",
    "from sklearn.feature_extraction.text import CountVectorizer, TfidfVectorizer\n",
    "from sklearn.neighbors import KDTree"
   ]
  },
  {
   "cell_type": "markdown",
   "metadata": {
    "id": "S7mxZmm5wOJ2"
   },
   "source": [
    "### Задание 1 (1 балл)\n",
    "Реализовать KNN в классе MyKNeighborsClassifier (обязательное условие: точность не ниже sklearn реализации)\n",
    "Разберитесь самостоятельно, какая мера расстояния используется в KNeighborsClassifier дефолтно и реализуйте свой алгоритм именно с этой мерой. \n",
    "Для подсчета расстояний можно использовать функции [отсюда](https://docs.scipy.org/doc/scipy/reference/spatial.distance.html)"
   ]
  },
  {
   "cell_type": "code",
   "execution_count": 2,
   "metadata": {
    "id": "90f93nI_wOJ3"
   },
   "outputs": [],
   "source": [
    "class MyKNeighborsClassifier(BaseEstimator):\n",
    "    \n",
    "    def euclidean(self, X_train, X_test):\n",
    "        X_train = X_train[:,:, np.newaxis]\n",
    "        dist = (X_train - X_test.T) ** 2\n",
    "        dist = np.sqrt(np.sum(dist, axis=1))\n",
    "        return dist\n",
    "    \n",
    "    def brute(self, X):\n",
    "        distances = self.euclidean(self.X_train, X)\n",
    "        distances = distances.argpartition(self.K, axis=0)[:self.K, :]\n",
    "        values = np.take(self.y_train, distances.T)\n",
    "        return stats.mode(values, axis=1)[0].reshape(-1)\n",
    "            \n",
    "    def kd_tree(self, X):\n",
    "        nearest_x_ind = self.tree.query(X, k=self.K, return_distance=False)\n",
    "        values = np.take(self.y_train, nearest_x_ind)\n",
    "        return stats.mode(values, axis=1)[0].reshape(-1)\n",
    "    \n",
    "    def __init__(\n",
    "        self, \n",
    "        n_neighbors, \n",
    "        algorithm='brute', \n",
    "        leaf_size = 40,  \n",
    "    ):\n",
    "        self.K = n_neighbors\n",
    "        self.algorithm_name = algorithm\n",
    "        \n",
    "        if algorithm == 'brute':\n",
    "            self.algorithm = self.brute\n",
    "                \n",
    "        elif algorithm == 'kd_tree':\n",
    "            self.algorithm = self.kd_tree\n",
    "            self.leaf_size = leaf_size\n",
    "                \n",
    "        else:\n",
    "            assert 0, 'Wrong algorithm\\'s name'\n",
    "    \n",
    "    def fit(self, X, y):\n",
    "        self.X_train = np.array(X)\n",
    "        self.y_train = np.array(y)\n",
    "        if self.algorithm_name == 'kd_tree':\n",
    "            self.tree = KDTree(X, leaf_size=self.leaf_size)\n",
    "    \n",
    "    def predict(self, X):\n",
    "        return self.algorithm(X)\n",
    "    "
   ]
  },
  {
   "cell_type": "markdown",
   "metadata": {
    "id": "liM1_EhJwOJ5"
   },
   "source": [
    "**IRIS**\n",
    "\n",
    "В библиотеке scikit-learn есть несколько датасетов из коробки. Один из них [Ирисы Фишера](https://ru.wikipedia.org/wiki/%D0%98%D1%80%D0%B8%D1%81%D1%8B_%D0%A4%D0%B8%D1%88%D0%B5%D1%80%D0%B0)"
   ]
  },
  {
   "cell_type": "code",
   "execution_count": 3,
   "metadata": {
    "id": "G8GQ2bC1wOJ6"
   },
   "outputs": [],
   "source": [
    "iris = datasets.load_iris()"
   ]
  },
  {
   "cell_type": "code",
   "execution_count": 4,
   "metadata": {
    "id": "pMebtVvnwOJ8",
    "tags": []
   },
   "outputs": [],
   "source": [
    "X_train, X_test, y_train, y_test = train_test_split(iris.data, iris.target, test_size=0.1, stratify=iris.target)"
   ]
  },
  {
   "cell_type": "code",
   "execution_count": 5,
   "metadata": {
    "id": "CUAbvgCWwOJ9"
   },
   "outputs": [],
   "source": [
    "clf = KNeighborsClassifier(n_neighbors=2, algorithm='brute')\n",
    "my_clf = MyKNeighborsClassifier(n_neighbors=2, algorithm='brute')"
   ]
  },
  {
   "cell_type": "code",
   "execution_count": 6,
   "metadata": {
    "id": "ltv0juNJwOJ_"
   },
   "outputs": [],
   "source": [
    "clf.fit(X_train, y_train)\n",
    "my_clf.fit(X_train, y_train)"
   ]
  },
  {
   "cell_type": "code",
   "execution_count": 7,
   "metadata": {
    "id": "cebLVihLwOKA"
   },
   "outputs": [],
   "source": [
    "sklearn_pred = clf.predict(X_test)\n",
    "my_clf_pred = my_clf.predict(X_test)\n",
    "assert abs( accuracy_score(y_test, my_clf_pred) -  accuracy_score(y_test, sklearn_pred ) )<0.005, \"Score must be simillar\""
   ]
  },
  {
   "cell_type": "markdown",
   "metadata": {
    "id": "IKlk_3SJwOKA"
   },
   "source": [
    "### Задание 2 (0.5 балла)\n",
    "\n",
    "Давайте попробуем добиться скорости работы на fit, predict сравнимой со sklearn для iris. Допускается замедление не более чем в 2 раза. \n",
    "Для этого используем numpy. "
   ]
  },
  {
   "cell_type": "code",
   "execution_count": 8,
   "metadata": {
    "id": "NmSI69TDwOKB",
    "outputId": "4299a7a1-8852-4a4c-a337-d8143e91ae06"
   },
   "outputs": [
    {
     "name": "stdout",
     "output_type": "stream",
     "text": [
      "CPU times: user 996 µs, sys: 92 µs, total: 1.09 ms\n",
      "Wall time: 1.17 ms\n"
     ]
    },
    {
     "data": {
      "text/plain": [
       "KNeighborsClassifier(algorithm='brute', n_neighbors=2)"
      ]
     },
     "execution_count": 8,
     "metadata": {},
     "output_type": "execute_result"
    }
   ],
   "source": [
    "%time clf.fit(X_train, y_train)"
   ]
  },
  {
   "cell_type": "code",
   "execution_count": 9,
   "metadata": {
    "id": "Hd35Kv9SwOKD",
    "outputId": "2b3074a4-f25f-4f6f-a7e3-ca8cf6d1f501"
   },
   "outputs": [
    {
     "name": "stdout",
     "output_type": "stream",
     "text": [
      "CPU times: user 0 ns, sys: 440 µs, total: 440 µs\n",
      "Wall time: 523 µs\n"
     ]
    }
   ],
   "source": [
    "%time my_clf.fit(X_train, y_train)"
   ]
  },
  {
   "cell_type": "code",
   "execution_count": 10,
   "metadata": {
    "id": "Jw7098enwOKE",
    "outputId": "57b10807-e49f-48e8-c20c-e4ea4eb953bb"
   },
   "outputs": [
    {
     "name": "stdout",
     "output_type": "stream",
     "text": [
      "CPU times: user 3.3 ms, sys: 0 ns, total: 3.3 ms\n",
      "Wall time: 9.46 ms\n"
     ]
    },
    {
     "data": {
      "text/plain": [
       "array([1, 1, 1, 1, 2, 2, 0, 2, 0, 1, 1, 0, 0, 2, 0])"
      ]
     },
     "execution_count": 10,
     "metadata": {},
     "output_type": "execute_result"
    }
   ],
   "source": [
    "%time clf.predict(X_test)"
   ]
  },
  {
   "cell_type": "code",
   "execution_count": 11,
   "metadata": {
    "id": "63jt00PbwOKF",
    "outputId": "400c5c70-d239-478d-ff5f-73d41a913053"
   },
   "outputs": [
    {
     "name": "stdout",
     "output_type": "stream",
     "text": [
      "CPU times: user 3.97 ms, sys: 0 ns, total: 3.97 ms\n",
      "Wall time: 4.36 ms\n"
     ]
    },
    {
     "data": {
      "text/plain": [
       "array([1, 1, 1, 1, 2, 2, 0, 2, 0, 1, 1, 0, 0, 2, 0])"
      ]
     },
     "execution_count": 11,
     "metadata": {},
     "output_type": "execute_result"
    }
   ],
   "source": [
    "%time my_clf.predict(X_test)"
   ]
  },
  {
   "cell_type": "markdown",
   "metadata": {
    "id": "uCKhKrKIwOKG"
   },
   "source": [
    "### Задание 3 (1 балл)\n",
    "Добавьте algorithm='kd_tree' в реализацию KNN (использовать KDTree из sklearn.neighbors). Необходимо добиться скорости работы на fit,  predict сравнимой со sklearn для iris. Допускается замедление не более чем в 2 раза. \n",
    "Для этого используем numpy. Точность не должна уступать значению KNN из sklearn. "
   ]
  },
  {
   "cell_type": "code",
   "execution_count": 12,
   "metadata": {
    "id": "z4xBUX-uwOKH"
   },
   "outputs": [],
   "source": [
    "clf = KNeighborsClassifier(n_neighbors=2, algorithm='kd_tree')\n",
    "my_clf = MyKNeighborsClassifier(n_neighbors=2, algorithm='kd_tree')"
   ]
  },
  {
   "cell_type": "code",
   "execution_count": 13,
   "metadata": {
    "id": "369LIw9LwOKH"
   },
   "outputs": [],
   "source": [
    "X_train, X_test, y_train, y_test = train_test_split(iris.data, iris.target, test_size=0.1, stratify=iris.target)"
   ]
  },
  {
   "cell_type": "code",
   "execution_count": 14,
   "metadata": {
    "id": "NoVAFQWtwOKI",
    "outputId": "ba422587-0b5a-4915-b0c7-b1c1e4aff599"
   },
   "outputs": [
    {
     "name": "stdout",
     "output_type": "stream",
     "text": [
      "CPU times: user 1.61 ms, sys: 157 µs, total: 1.77 ms\n",
      "Wall time: 4.7 ms\n"
     ]
    },
    {
     "data": {
      "text/plain": [
       "KNeighborsClassifier(algorithm='kd_tree', n_neighbors=2)"
      ]
     },
     "execution_count": 14,
     "metadata": {},
     "output_type": "execute_result"
    }
   ],
   "source": [
    "%time clf.fit(X_train, y_train)"
   ]
  },
  {
   "cell_type": "code",
   "execution_count": 15,
   "metadata": {
    "id": "Xi4RaOX3wOKJ",
    "outputId": "ab0c9398-bd72-4857-ca8f-ee692624ef50"
   },
   "outputs": [
    {
     "name": "stdout",
     "output_type": "stream",
     "text": [
      "CPU times: user 801 µs, sys: 26 µs, total: 827 µs\n",
      "Wall time: 905 µs\n"
     ]
    }
   ],
   "source": [
    "%time my_clf.fit(X_train, y_train)"
   ]
  },
  {
   "cell_type": "code",
   "execution_count": 16,
   "metadata": {
    "id": "niXRAkY8wOKJ",
    "outputId": "b0b14e9c-96ef-4e44-930d-65746dfc7762"
   },
   "outputs": [
    {
     "name": "stdout",
     "output_type": "stream",
     "text": [
      "CPU times: user 3.41 ms, sys: 335 µs, total: 3.75 ms\n",
      "Wall time: 6.37 ms\n"
     ]
    },
    {
     "data": {
      "text/plain": [
       "array([1, 1, 1, 1, 0, 2, 2, 0, 1, 0, 0, 0, 2, 2, 2])"
      ]
     },
     "execution_count": 16,
     "metadata": {},
     "output_type": "execute_result"
    }
   ],
   "source": [
    "%time clf.predict(X_test)"
   ]
  },
  {
   "cell_type": "code",
   "execution_count": 17,
   "metadata": {
    "id": "YkAlln_MwOKK",
    "outputId": "c369bd37-45a8-4f6d-b325-b290eaf5c295"
   },
   "outputs": [
    {
     "name": "stdout",
     "output_type": "stream",
     "text": [
      "CPU times: user 0 ns, sys: 2.41 ms, total: 2.41 ms\n",
      "Wall time: 3.91 ms\n"
     ]
    },
    {
     "data": {
      "text/plain": [
       "array([1, 1, 1, 1, 0, 2, 2, 0, 1, 0, 0, 0, 2, 2, 2])"
      ]
     },
     "execution_count": 17,
     "metadata": {},
     "output_type": "execute_result"
    }
   ],
   "source": [
    "%time my_clf.predict(X_test)"
   ]
  },
  {
   "cell_type": "code",
   "execution_count": 18,
   "metadata": {
    "id": "o6I6LvcUwOKL"
   },
   "outputs": [],
   "source": [
    "sklearn_pred = clf.predict(X_test)\n",
    "my_clf_pred = my_clf.predict(X_test)\n",
    "assert abs( accuracy_score(y_test, my_clf_pred) -  accuracy_score(y_test, sklearn_pred ) )<0.005, \"Score must be simillar\""
   ]
  },
  {
   "cell_type": "markdown",
   "metadata": {
    "id": "UCgCj92HwOKM"
   },
   "source": [
    "### Задание 4 (2.5 балла)\n",
    "\n",
    "Рассмотрим новый датасет 20 newsgroups"
   ]
  },
  {
   "cell_type": "code",
   "execution_count": 19,
   "metadata": {
    "id": "WXhQ2ZLIwOKM"
   },
   "outputs": [],
   "source": [
    "newsgroups = fetch_20newsgroups(subset='train',remove=['headers','footers', 'quotes'])"
   ]
  },
  {
   "cell_type": "code",
   "execution_count": 20,
   "metadata": {
    "id": "OaZri05LwOKN"
   },
   "outputs": [],
   "source": [
    "train_size = 500\n",
    "data = newsgroups['data'][:train_size]\n",
    "target = newsgroups['target'][:train_size]"
   ]
  },
  {
   "cell_type": "markdown",
   "metadata": {
    "id": "5tqe_GI5wOKN"
   },
   "source": [
    "Преобразуйте текстовые данные из data с помощью [CountVectorizer](https://scikit-learn.org/stable/modules/generated/sklearn.feature_extraction.text.CountVectorizer.html). Словарь можно ограничить по частотности."
   ]
  },
  {
   "cell_type": "code",
   "execution_count": 21,
   "metadata": {
    "id": "4IrgAAffwOKN"
   },
   "outputs": [],
   "source": [
    "vectorizer = CountVectorizer(max_df=4, min_df=2)\n",
    "X_train = vectorizer.fit_transform(data).toarray()\n",
    "y_train = np.asarray(target)"
   ]
  },
  {
   "cell_type": "code",
   "execution_count": 22,
   "metadata": {
    "id": "EBpRtdvowOKO"
   },
   "outputs": [],
   "source": [
    "old_dim = X_train.shape[1]"
   ]
  },
  {
   "cell_type": "markdown",
   "metadata": {
    "id": "iVDZzFs-wOKO"
   },
   "source": [
    "*Так мы получили векторное представление наших текстов. Значит можно приступать к задаче обучения модели*"
   ]
  },
  {
   "cell_type": "markdown",
   "metadata": {
    "id": "1zIvE5-9wOKP"
   },
   "source": [
    "Реализуйте разбиение выборки для кросс-валидации на 3 фолдах. Разрешено использовать sklearn.cross_validation"
   ]
  },
  {
   "cell_type": "code",
   "execution_count": 23,
   "metadata": {
    "id": "roA4WbgiwOKP"
   },
   "outputs": [],
   "source": [
    "folds = 3\n",
    "split_X = np.array_split(X_train, folds)\n",
    "split_y = np.array_split(y_train, folds)"
   ]
  },
  {
   "cell_type": "markdown",
   "metadata": {
    "id": "CieGwSjDwOKP"
   },
   "source": [
    "Напишите метод, позволяющий найти оптимальное количество ближайших соседей(дающее максимальную точность в среднем на валидации на 3 фолдах).\n",
    "Постройте график зависимости средней точности от количества соседей. Можно рассмотреть число соседей от 1 до 10."
   ]
  },
  {
   "cell_type": "code",
   "execution_count": 24,
   "metadata": {
    "id": "GzjFPrfOwOKQ"
   },
   "outputs": [],
   "source": [
    "def optimal(split_X, split_y, folds):\n",
    "    scores = np.zeros(10)\n",
    "    for k in range(10):\n",
    "        my_clf = MyKNeighborsClassifier(n_neighbors=k+1, algorithm='kd_tree')\n",
    "        score = 0\n",
    "        for i in range(folds):\n",
    "            X_train = np.concatenate([split_X[j] for j in range(folds) if j != i])\n",
    "            y_train = np.concatenate([split_y[j] for j in range(folds) if j != i])\n",
    "            X_test = split_X[i]\n",
    "            y_test = split_y[i]\n",
    "            my_clf.fit(X_train, y_train)\n",
    "            my_clf_pred = my_clf.predict(X_test)\n",
    "            score += accuracy_score(y_test, my_clf_pred)\n",
    "        scores[k] = score / folds\n",
    "    return scores\n",
    "         "
   ]
  },
  {
   "cell_type": "markdown",
   "metadata": {
    "id": "3_wivklMwOKR"
   },
   "source": [
    "Метрика евклидова, векторизация с помощью CountVectorizer:"
   ]
  },
  {
   "cell_type": "code",
   "execution_count": 25,
   "metadata": {
    "id": "nMNu5PzkwOKR",
    "outputId": "612d0498-7ffc-491e-a0b0-645a6b7b45cb"
   },
   "outputs": [
    {
     "name": "stdout",
     "output_type": "stream",
     "text": [
      "0.11391674482360581\n"
     ]
    },
    {
     "data": {
      "image/png": "[encoded data removed]",
      "text/plain": [
       "<Figure size 432x288 with 1 Axes>"
      ]
     },
     "metadata": {
      "needs_background": "light"
     },
     "output_type": "display_data"
    }
   ],
   "source": [
    "accuracy = optimal(split_X, split_y, folds)\n",
    "\n",
    "plt.plot(range(1,11,1), accuracy)\n",
    "print(accuracy.max())"
   ]
  },
  {
   "cell_type": "markdown",
   "metadata": {
    "id": "gny9JI3hwOKS"
   },
   "source": [
    "Метрика косинусная, векторизация с помощью CountVectorizer:"
   ]
  },
  {
   "cell_type": "code",
   "execution_count": 26,
   "metadata": {
    "id": "BLBIEMOKwOKT",
    "outputId": "cb9d2fb3-532e-4243-ef00-312dac7af945"
   },
   "outputs": [
    {
     "name": "stdout",
     "output_type": "stream",
     "text": [
      "0.07195248058100666\n"
     ]
    },
    {
     "data": {
      "image/png": "[encoded data removed]",
      "text/plain": [
       "<Figure size 432x288 with 1 Axes>"
      ]
     },
     "metadata": {
      "needs_background": "light"
     },
     "output_type": "display_data"
    }
   ],
   "source": [
    "X_train = X_train / (np.sqrt((X_train ** 2).sum(axis=1))[:, np.newaxis] + 0.00001)\n",
    "\n",
    "split_X = np.array_split(X_train, folds)\n",
    "\n",
    "accuracy_cos = optimal(split_X, split_y, folds)\n",
    "plt.plot(range(1,11,1), accuracy_cos)\n",
    "print(accuracy_cos.max())"
   ]
  },
  {
   "cell_type": "markdown",
   "metadata": {
    "id": "TYqHAgDuwOKT"
   },
   "source": [
    "Метрика евклидова, векторизация с помощью TfidfVectorizer:"
   ]
  },
  {
   "cell_type": "code",
   "execution_count": 27,
   "metadata": {
    "id": "ffB-s_nowOKU",
    "outputId": "b51f4ee4-7ec8-425d-d5b8-13f74ff4ffd2"
   },
   "outputs": [
    {
     "name": "stdout",
     "output_type": "stream",
     "text": [
      "0.07396051270952071\n"
     ]
    },
    {
     "data": {
      "image/png": "[encoded data removed]",
      "text/plain": [
       "<Figure size 432x288 with 1 Axes>"
      ]
     },
     "metadata": {
      "needs_background": "light"
     },
     "output_type": "display_data"
    }
   ],
   "source": [
    "tfidf_vectorizer = TfidfVectorizer(max_df=4, min_df=2)\n",
    "X_train = tfidf_vectorizer.fit_transform(data).toarray()\n",
    "split_X = np.array_split(X_train, folds)\n",
    "\n",
    "accuracy_tfidf = optimal(split_X, split_y, folds)\n",
    "plt.plot(range(1,11,1), accuracy_tfidf)\n",
    "print(accuracy_tfidf.max())"
   ]
  },
  {
   "cell_type": "markdown",
   "metadata": {
    "id": "5ee7ef2fwOKV"
   },
   "source": [
    "Метрика косинусная, векторизация с помощью TfidfVectorizer:"
   ]
  },
  {
   "cell_type": "code",
   "execution_count": 28,
   "metadata": {
    "id": "hs74WiQ3wOKV",
    "outputId": "3d0c1540-0abc-4724-ba08-307646383426"
   },
   "outputs": [
    {
     "name": "stdout",
     "output_type": "stream",
     "text": [
      "0.07396051270952071\n"
     ]
    },
    {
     "data": {
      "image/png": "[encoded data removed]",
      "text/plain": [
       "<Figure size 432x288 with 1 Axes>"
      ]
     },
     "metadata": {
      "needs_background": "light"
     },
     "output_type": "display_data"
    }
   ],
   "source": [
    "X_train = X_train / (np.sqrt((X_train ** 2).sum(axis=1))[:, np.newaxis] + 0.00001)\n",
    "\n",
    "split_X = np.array_split(X_train, folds)\n",
    "\n",
    "accuracy_tfidf_cos = optimal(split_X, split_y, folds)\n",
    "plt.plot(range(1,11,1), accuracy_tfidf_cos)\n",
    "print(accuracy_tfidf_cos.max())"
   ]
  },
  {
   "cell_type": "markdown",
   "metadata": {
    "id": "rU0qhMwwwOKW"
   },
   "source": [
    "Как изменится качество на валидации, если:\n",
    "\n",
    "1. Используется косинусная метрика вместо евклидовой.\n",
    "2. К текстам применяется TfIdf векторизацию( sklearn.feature_extraction.text.TfidfVectorizer)\n",
    "\n",
    "Сравните модели, выберите лучшую."
   ]
  },
  {
   "cell_type": "markdown",
   "metadata": {
    "id": "0NStfUuswOKW"
   },
   "source": [
    "ОТВЕТ: Лучше всего работает векторизация с CountVectorizer, метрика евклидова, сосед 1 (точность 0.11)."
   ]
  },
  {
   "cell_type": "markdown",
   "metadata": {
    "id": "0EDbZ8G6wOKq"
   },
   "source": [
    "Загрузим  теперь test  часть нашей выборки и преобразуем её аналогично с train частью. Не забудьте, что наборы слов в train и test части могут отличаться."
   ]
  },
  {
   "cell_type": "code",
   "execution_count": 29,
   "metadata": {
    "id": "zL0SeoOMwOKr"
   },
   "outputs": [],
   "source": [
    "newsgroups = fetch_20newsgroups(subset='test',remove=['headers','footers', 'quotes'])"
   ]
  },
  {
   "cell_type": "markdown",
   "metadata": {
    "id": "DPvSfn3JwOKr"
   },
   "source": [
    "Оценим точность вашей лучшей модели на test части датасета. Отличается ли оно от кросс-валидации? Попробуйте сделать выводы, почему отличается качество."
   ]
  },
  {
   "cell_type": "code",
   "execution_count": 30,
   "metadata": {
    "id": "khgxCM9HwOKs",
    "outputId": "83d473c0-b6e9-45dc-e404-5a3fbd054133"
   },
   "outputs": [
    {
     "data": {
      "text/plain": [
       "0.088"
      ]
     },
     "execution_count": 30,
     "metadata": {},
     "output_type": "execute_result"
    }
   ],
   "source": [
    "test_size = 500\n",
    "data_test = newsgroups['data'][:test_size]\n",
    "target_test = newsgroups['target'][:test_size]\n",
    "data_all = data + data_test\n",
    "target_all = np.concatenate((target, target_test))\n",
    "\n",
    "X = vectorizer.fit_transform(data_all).toarray()\n",
    "X_test = X[train_size:train_size+test_size, :]\n",
    "y_test = np.asarray(target_test)\n",
    "X_train = X[:train_size, :]\n",
    "y_train = target[:train_size]\n",
    "\n",
    "my_clf = MyKNeighborsClassifier(n_neighbors=1, algorithm='kd_tree')\n",
    "my_clf.fit(X_train, y_train)\n",
    "my_clf_pred = my_clf.predict(X_test)\n",
    "accuracy_score(y_test, my_clf_pred)"
   ]
  },
  {
   "cell_type": "code",
   "execution_count": 31,
   "metadata": {
    "id": "HYBDsy1RwOKt",
    "outputId": "3af190b0-9468-4458-e8d2-1f7f711a5755"
   },
   "outputs": [
    {
     "data": {
      "text/plain": [
       "0.09"
      ]
     },
     "execution_count": 31,
     "metadata": {},
     "output_type": "execute_result"
    }
   ],
   "source": [
    "clf = KNeighborsClassifier(n_neighbors=1, algorithm='kd_tree')\n",
    "clf.fit(X_train, y_train)\n",
    "clf_pred = clf.predict(X_test)\n",
    "accuracy_score(y_test, clf_pred)"
   ]
  },
  {
   "cell_type": "markdown",
   "metadata": {
    "id": "DNjPKsWuwOKt"
   },
   "source": [
    "И без того плохое качество стало ещё хуже. Вообще, при больших размерностях, чем больше размерности векторов, тем хуже работает knn из-за \"проклятия размерности\". Для тестовой выборки мы увеличивали словарь с обучающей выборки словами из тестовой, следовательно, и размерности векторов увеличились, поэтому качество немного упало."
   ]
  },
  {
   "cell_type": "code",
   "execution_count": 32,
   "metadata": {
    "id": "SuJUD6RYwOKu",
    "outputId": "a5f312bf-aa8f-46e7-cec9-537f0c7facbe"
   },
   "outputs": [
    {
     "name": "stdout",
     "output_type": "stream",
     "text": [
      "Размерность векторов при тесте: 4608\n",
      "Размерность векторов при обучении: 3269\n"
     ]
    }
   ],
   "source": [
    "print(\"Размерность векторов при тесте:\", X.shape[1])\n",
    "print(\"Размерность векторов при обучении:\", old_dim)"
   ]
  }
 ],
 "metadata": {
  "colab": {
   "name": "shakhov_hw1.ipynb",
   "provenance": []
  },
  "kernelspec": {
   "display_name": "Python 3",
   "language": "python",
   "name": "python3"
  },
  "language_info": {
   "codemirror_mode": {
    "name": "ipython",
    "version": 3
   },
   "file_extension": ".py",
   "mimetype": "text/x-python",
   "name": "python",
   "nbconvert_exporter": "python",
   "pygments_lexer": "ipython3",
   "version": "3.7.11"
  }
 },
 "nbformat": 4,
 "nbformat_minor": 1
}
